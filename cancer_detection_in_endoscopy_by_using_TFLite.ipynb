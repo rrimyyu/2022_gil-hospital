{
  "cells": [
    {
      "cell_type": "markdown",
      "metadata": {
        "id": "view-in-github",
        "colab_type": "text"
      },
      "source": [
        "<a href=\"https://colab.research.google.com/github/rrimyyu/2022_gil-hospital/blob/main/cancer_detection_in_endoscopy_by_using_TFLite.ipynb\" target=\"_parent\"><img src=\"https://colab.research.google.com/assets/colab-badge.svg\" alt=\"Open In Colab\"/></a>"
      ]
    },
    {
      "cell_type": "markdown",
      "metadata": {
        "id": "yK15Xbgh-KV7"
      },
      "source": [
        "<a href=\"https://colab.research.google.com/github/khanhlvg/tflite_raspberry_pi/blob/main/object_detection/Train_custom_model_tutorial.ipynb\" target=\"_parent\"><img src=\"https://colab.research.google.com/assets/colab-badge.svg\" alt=\"Open In Colab\"/></a>"
      ]
    },
    {
      "cell_type": "markdown",
      "metadata": {
        "id": "gf2if_fGDaWc"
      },
      "source": [
        "##### Copyright 2021 The TensorFlow Authors."
      ]
    },
    {
      "cell_type": "code",
      "execution_count": null,
      "metadata": {
        "cellView": "form",
        "id": "jrmj83afDJrv"
      },
      "outputs": [],
      "source": [
        "#@title Licensed under the Apache License, Version 2.0 (the \"License\");\n",
        "# you may not use this file except in compliance with the License.\n",
        "# You may obtain a copy of the License at\n",
        "#\n",
        "# https://www.apache.org/licenses/LICENSE-2.0\n",
        "#\n",
        "# Unless required by applicable law or agreed to in writing, software\n",
        "# distributed under the License is distributed on an \"AS IS\" BASIS,\n",
        "# WITHOUT WARRANTIES OR CONDITIONS OF ANY KIND, either express or implied.\n",
        "# See the License for the specific language governing permissions and\n",
        "# limitations under the License."
      ]
    },
    {
      "cell_type": "markdown",
      "metadata": {
        "id": "PpJEzDG6DK2Q"
      },
      "source": [
        "# Train a custom object detection model with TensorFlow Lite Model Maker\n",
        "\n",
        "In this colab notebook, you'll learn how to use the [TensorFlow Lite Model Maker](https://www.tensorflow.org/lite/guide/model_maker) to train a custom object detection model to detect Android figurines and how to put the model on a Raspberry Pi.\n",
        "\n",
        "The Model Maker library uses *transfer learning* to simplify the process of training a TensorFlow Lite model using a custom dataset. Retraining a TensorFlow Lite model with your own custom dataset reduces the amount of training data required and will shorten the training time.\n"
      ]
    },
    {
      "cell_type": "markdown",
      "metadata": {
        "id": "BRYjtwRZGBOI"
      },
      "source": [
        "## Preparation\n",
        "\n",
        "### Install the required packages\n",
        "Start by installing the required packages, including the Model Maker package from the [GitHub repo](https://github.com/tensorflow/examples/tree/master/tensorflow_examples/lite/model_maker) and the pycocotools library you'll use for evaluation."
      ]
    },
    {
      "cell_type": "code",
      "execution_count": null,
      "metadata": {
        "colab": {
          "base_uri": "https://localhost:8080/"
        },
        "id": "35BJmtVpAP_n",
        "outputId": "4b892ebe-4487-4c71-cc69-7a038d58ae52"
      },
      "outputs": [
        {
          "output_type": "stream",
          "name": "stdout",
          "text": [
            "\u001b[K     |████████████████████████████████| 577 kB 33.6 MB/s \n",
            "\u001b[K     |████████████████████████████████| 1.1 MB 55.3 MB/s \n",
            "\u001b[K     |████████████████████████████████| 3.4 MB 56.0 MB/s \n",
            "\u001b[K     |████████████████████████████████| 840 kB 63.6 MB/s \n",
            "\u001b[K     |████████████████████████████████| 10.9 MB 45.6 MB/s \n",
            "\u001b[K     |████████████████████████████████| 87 kB 7.4 MB/s \n",
            "\u001b[K     |████████████████████████████████| 238 kB 50.7 MB/s \n",
            "\u001b[K     |████████████████████████████████| 60.2 MB 22 kB/s \n",
            "\u001b[K     |████████████████████████████████| 1.3 MB 61.9 MB/s \n",
            "\u001b[K     |████████████████████████████████| 77 kB 6.1 MB/s \n",
            "\u001b[K     |████████████████████████████████| 128 kB 67.5 MB/s \n",
            "\u001b[K     |████████████████████████████████| 25.3 MB 1.4 MB/s \n",
            "\u001b[K     |████████████████████████████████| 497.9 MB 32 kB/s \n",
            "\u001b[K     |████████████████████████████████| 99 kB 9.8 MB/s \n",
            "\u001b[K     |████████████████████████████████| 352 kB 62.4 MB/s \n",
            "\u001b[K     |████████████████████████████████| 462 kB 55.8 MB/s \n",
            "\u001b[K     |████████████████████████████████| 1.4 MB 64.6 MB/s \n",
            "\u001b[K     |████████████████████████████████| 5.8 MB 62.9 MB/s \n",
            "\u001b[K     |████████████████████████████████| 40 kB 6.4 MB/s \n",
            "\u001b[K     |████████████████████████████████| 213 kB 57.8 MB/s \n",
            "\u001b[K     |████████████████████████████████| 1.1 MB 67.1 MB/s \n",
            "\u001b[?25h  Building wheel for fire (setup.py) ... \u001b[?25l\u001b[?25hdone\n",
            "  Building wheel for py-cpuinfo (setup.py) ... \u001b[?25l\u001b[?25hdone\n"
          ]
        }
      ],
      "source": [
        "!pip install -q tflite-model-maker\n",
        "!pip install -q tflite-support"
      ]
    },
    {
      "cell_type": "markdown",
      "metadata": {
        "id": "prQ86DdtD317"
      },
      "source": [
        "Import the required packages."
      ]
    },
    {
      "cell_type": "code",
      "execution_count": null,
      "metadata": {
        "id": "l4QQTXHHATDS"
      },
      "outputs": [],
      "source": [
        "import numpy as np\n",
        "import os\n",
        "\n",
        "from tflite_model_maker.config import ExportFormat, QuantizationConfig\n",
        "from tflite_model_maker import model_spec\n",
        "from tflite_model_maker import object_detector\n",
        "\n",
        "from tflite_support import metadata\n",
        "\n",
        "import tensorflow as tf\n",
        "assert tf.__version__.startswith('2')\n",
        "\n",
        "tf.get_logger().setLevel('ERROR')\n",
        "from absl import logging\n",
        "logging.set_verbosity(logging.ERROR)"
      ]
    },
    {
      "cell_type": "markdown",
      "metadata": {
        "id": "3g6aQvXsD78P"
      },
      "source": [
        "### Prepare the dataset\n",
        "\n",
        "This dataset contains about 70 images of 2 type of Android figurines: an Android and an Android pig. This is an example image from the dataset.\n",
        "\n",
        "![android_figurine_sample.jpg](https://storage.googleapis.com/download.tensorflow.org/example_images/android_figurine_sample.jpg)\n",
        "\n",
        "We start with downloading the dataset."
      ]
    },
    {
      "cell_type": "code",
      "execution_count": null,
      "metadata": {
        "colab": {
          "base_uri": "https://localhost:8080/"
        },
        "id": "8AGg7D4JAV62",
        "outputId": "a01395a6-d48d-48fe-83f0-f1ef4f91cb93"
      },
      "outputs": [
        {
          "output_type": "stream",
          "name": "stdout",
          "text": [
            "--2022-10-20 06:39:10--  https://storage.googleapis.com/download.tensorflow.org/data/android_figurine.zip\n",
            "Resolving storage.googleapis.com (storage.googleapis.com)... 142.250.153.128, 173.194.79.128, 108.177.119.128, ...\n",
            "Connecting to storage.googleapis.com (storage.googleapis.com)|142.250.153.128|:443... connected.\n",
            "HTTP request sent, awaiting response... 200 OK\n",
            "Length: 14333895 (14M) [application/zip]\n",
            "Saving to: ‘android_figurine.zip’\n",
            "\n",
            "android_figurine.zi 100%[===================>]  13.67M  54.8MB/s    in 0.2s    \n",
            "\n",
            "2022-10-20 06:39:10 (54.8 MB/s) - ‘android_figurine.zip’ saved [14333895/14333895]\n",
            "\n"
          ]
        }
      ],
      "source": [
        "!wget https://storage.googleapis.com/download.tensorflow.org/data/android_figurine.zip\n",
        "!unzip -q android_figurine.zip"
      ]
    },
    {
      "cell_type": "markdown",
      "metadata": {
        "id": "Yxh3KInCFeB-"
      },
      "source": [
        "## Train the object detection model\n",
        "\n",
        "### Step 1: Load the dataset\n",
        "\n",
        "* Images in `train_data` is used to train the custom object detection model.\n",
        "* Images in `val_data` is used to check if the model can generalize well to new images that it hasn't seen before."
      ]
    },
    {
      "cell_type": "code",
      "execution_count": null,
      "metadata": {
        "id": "WiAahdsQAdT7"
      },
      "outputs": [],
      "source": [
        "# example\n",
        "train_data = object_detector.DataLoader.from_pascal_voc(\n",
        "    'android_figurine/train',\n",
        "    'android_figurine/train',\n",
        "    ['android', 'pig_android']\n",
        ")\n",
        "\n",
        "val_data = object_detector.DataLoader.from_pascal_voc(\n",
        "    'android_figurine/validate',\n",
        "    'android_figurine/validate',\n",
        "    ['android', 'pig_android']\n",
        ")"
      ]
    },
    {
      "cell_type": "code",
      "source": [
        "# example\n",
        "import xml.etree.ElementTree as ET\n",
        "\n",
        "filePath = \"/content/android_figurine/train/IMG_0509.xml\"\n",
        "tree = ET.parse(filePath)\n",
        "ET.dump(tree)"
      ],
      "metadata": {
        "colab": {
          "base_uri": "https://localhost:8080/"
        },
        "id": "4g8tdemZEobz",
        "outputId": "9623b04c-c367-469b-a265-7feab623b6dc"
      },
      "execution_count": null,
      "outputs": [
        {
          "output_type": "stream",
          "name": "stdout",
          "text": [
            "<annotation verified=\"yes\">\n",
            "\t<folder>train</folder>\n",
            "\t<filename>IMG_0509.jpg</filename>\n",
            "\t<path>/Users/thuytran/Downloads/Photos-002/train/IMG_0509.jpg</path>\n",
            "\t<source>\n",
            "\t\t<database>Unknown</database>\n",
            "\t</source>\n",
            "\t<size>\n",
            "\t\t<width>800</width>\n",
            "\t\t<height>600</height>\n",
            "\t\t<depth>3</depth>\n",
            "\t</size>\n",
            "\t<segmented>0</segmented>\n",
            "\t<object>\n",
            "\t\t<name>android</name>\n",
            "\t\t<pose>Unspecified</pose>\n",
            "\t\t<truncated>0</truncated>\n",
            "\t\t<difficult>0</difficult>\n",
            "\t\t<bndbox>\n",
            "\t\t\t<xmin>10</xmin>\n",
            "\t\t\t<ymin>131</ymin>\n",
            "\t\t\t<xmax>288</xmax>\n",
            "\t\t\t<ymax>401</ymax>\n",
            "\t\t</bndbox>\n",
            "\t</object>\n",
            "\t<object>\n",
            "\t\t<name>pig_android</name>\n",
            "\t\t<pose>Unspecified</pose>\n",
            "\t\t<truncated>0</truncated>\n",
            "\t\t<difficult>0</difficult>\n",
            "\t\t<bndbox>\n",
            "\t\t\t<xmin>526</xmin>\n",
            "\t\t\t<ymin>82</ymin>\n",
            "\t\t\t<xmax>722</xmax>\n",
            "\t\t\t<ymax>324</ymax>\n",
            "\t\t</bndbox>\n",
            "\t</object>\n",
            "</annotation>\n"
          ]
        }
      ]
    },
    {
      "cell_type": "markdown",
      "source": [
        "## Train the object detection model\n",
        "\n",
        "### Step 1: Load the dataset\n",
        "\n",
        "* Images in `train_data` is used to train the custom object detection model.\n",
        "* Images in `val_data` is used to check if the model can generalize well to new images that it hasn't seen before."
      ],
      "metadata": {
        "id": "Db_l2EgHJ_c5"
      }
    },
    {
      "cell_type": "code",
      "source": [
        "from google.colab import drive\n",
        "drive.mount('/content/drive')"
      ],
      "metadata": {
        "colab": {
          "base_uri": "https://localhost:8080/"
        },
        "id": "Y7NoR7OBGleF",
        "outputId": "3152367e-0de4-4d34-b326-0e6b043521cf"
      },
      "execution_count": null,
      "outputs": [
        {
          "output_type": "stream",
          "name": "stdout",
          "text": [
            "Mounted at /content/drive\n"
          ]
        }
      ]
    },
    {
      "cell_type": "code",
      "source": [
        "import os \n",
        "\n",
        "# make temporary folders \n",
        "os.makedirs(\"/content/temp_data\")\n",
        "os.makedirs(\"/content/temp_data/train\")\n",
        "os.makedirs(\"/content/temp_data/validate\")"
      ],
      "metadata": {
        "id": "yGhWDhxvvB3x"
      },
      "execution_count": null,
      "outputs": []
    },
    {
      "cell_type": "code",
      "source": [
        "import glob \n",
        "\n",
        "cancer_path = \"/content/drive/MyDrive/gil_data_sample/1.cancer_50/\"\n",
        "os.chdir(cancer_path)\n",
        "print(os.getcwd())\n",
        "\n",
        "folder_list = os.listdir(\"./\") \n",
        "img_list = []\n",
        "roi_list = [] \n",
        "\n",
        "img_files = glob.glob(\"/content/drive/MyDrive/gil_data_sample/1.cancer_50/*/*.jpg\")\n",
        "roi_files = glob.glob(\"/content/drive/MyDrive/gil_data_sample/1.cancer_50/*/*.roi\")\n",
        "\n",
        "for img in img_files:\n",
        "  img_list.append(img)\n",
        "  img_name, ext = os.path.splitext(img) \n",
        "  for roi in roi_files:\n",
        "    roi_name, ext = os.path.splitext(roi)\n",
        "    if roi_name == img_name: # .roi file with same name as .jpg file is appended to the list because invalid .roi files coexist \n",
        "      roi_list.append(roi)\n",
        "    else: \n",
        "      continue\n",
        "      \n",
        "print(img_list)\n",
        "print(roi_list)"
      ],
      "metadata": {
        "id": "fK6oprGHvdi5"
      },
      "execution_count": null,
      "outputs": []
    },
    {
      "cell_type": "code",
      "source": [
        "!pip install read-roi\n",
        "\n",
        "from read_roi import read_roi_file\n",
        "from read_roi import read_roi_zip"
      ],
      "metadata": {
        "colab": {
          "base_uri": "https://localhost:8080/"
        },
        "id": "MzkxjERKMhwJ",
        "outputId": "dedbd2d4-89c5-488b-b56f-00e09e4b3179"
      },
      "execution_count": null,
      "outputs": [
        {
          "output_type": "stream",
          "name": "stdout",
          "text": [
            "Looking in indexes: https://pypi.org/simple, https://us-python.pkg.dev/colab-wheels/public/simple/\n",
            "Collecting read-roi\n",
            "  Downloading read-roi-1.6.0.tar.gz (7.4 kB)\n",
            "Building wheels for collected packages: read-roi\n",
            "  Building wheel for read-roi (setup.py) ... \u001b[?25l\u001b[?25hdone\n",
            "  Created wheel for read-roi: filename=read_roi-1.6.0-py2.py3-none-any.whl size=8040 sha256=4a7ced676619662c2978817643a3d397fb98e3fffaf661eb91e171b7b23ba459\n",
            "  Stored in directory: /root/.cache/pip/wheels/5d/78/44/12a461d71dea08bdb6ff2623578b6a2570f01fd6bf7ce4aa7d\n",
            "Successfully built read-roi\n",
            "Installing collected packages: read-roi\n",
            "Successfully installed read-roi-1.6.0\n"
          ]
        }
      ]
    },
    {
      "cell_type": "code",
      "source": [
        "# this code is that .roi file converts to .xml file \n",
        "\n",
        "from xml.etree.ElementTree import Element, SubElement, ElementTree\n",
        "import xml.etree.ElementTree as ET\n",
        "\n",
        "number_of_data = len(img_list)\n",
        "number_of_training_data = int(round(number_of_data * 0.8))\n",
        "\n",
        "for index, img in enumerate(img_list): \n",
        "  file_name_with_ext = os.path.basename(img) # image file with extension \n",
        "  file_name, ext = os.path.splitext(file_name_with_ext) # seperated file name and file extension from full path \n",
        "\n",
        "  width = 1280\n",
        "  height = 1024\n",
        "  label = 'cancer'\n",
        "  \n",
        "  root = Element('annotation')\n",
        "  # SubElement(root, 'folder').text = 'train'\n",
        "  SubElement(root, 'filename').text =  file_name_with_ext\n",
        "  # SubElement(root, 'path').text = '/content/temp_data/train/' + file_name_with_ext\n",
        "  source = SubElement(root, 'source')\n",
        "  SubElement(source, 'database').text = 'Unknown'\n",
        "  \n",
        "  size = SubElement(root, 'size')\n",
        "  SubElement(size, 'width').text = str(width)\n",
        "  SubElement(size, 'height').text = str(height)\n",
        "  SubElement(size, 'depth').text = '1'\n",
        "  \n",
        "  SubElement(root, 'segmented').text = '0'\n",
        "  \n",
        "  obj = SubElement(root, 'object')\n",
        "  SubElement(obj, 'name').text = label\n",
        "  SubElement(obj, 'pose').text = 'Unspecified'\n",
        "  SubElement(obj, 'truncated').text = '0'\n",
        "  SubElement(obj, 'difficult').text = '0'\n",
        "  bbox = SubElement(obj, 'bndbox')\n",
        "\n",
        "  loaded_roi = read_roi_file(roi_list[index])\n",
        "  roi_data = loaded_roi.get(file_name) # file_name is key in dictionary\n",
        "\n",
        "  SubElement(bbox, 'xmin').text = str(roi_data.get('left'))\n",
        "  SubElement(bbox, 'ymin').text = str(roi_data.get('top'))\n",
        "  SubElement(bbox, 'xmax').text = str(roi_data.get('left') + roi_data.get('width'))\n",
        "  SubElement(bbox, 'ymax').text = str(roi_data.get('top') + roi_data.get('height'))\n",
        "\n",
        "  if index < number_of_training_data: # dataset for training\n",
        "    SubElement(root, 'folder').text = 'train'\n",
        "    SubElement(root, 'path').text = '/content/temp_data/train/' + file_name_with_ext\n",
        "    tree = ElementTree(root)\n",
        "    tree.write('/content/temp_data/train/' + str(file_name) +'.xml')\n",
        "\n",
        "  elif index >= number_of_training_data and index < number_of_data: # dataset for validation \n",
        "    SubElement(root, 'folder').text = 'validate'\n",
        "    SubElement(root, 'path').text = '/content/temp_data/validate/' + file_name_with_ext\n",
        "    tree = ElementTree(root)\n",
        "    tree.write('/content/temp_data/validate/' + str(file_name +'.xml'))\n",
        "\n",
        "  else:\n",
        "    break"
      ],
      "metadata": {
        "id": "KZ9Z3xW3FFJ0"
      },
      "execution_count": null,
      "outputs": []
    },
    {
      "cell_type": "code",
      "source": [
        "# all image files are copied to temporary folders \n",
        "\n",
        "import shutil \n",
        "\n",
        "for index, img in enumerate(img_list): # image file as full path \n",
        "  file_name_with_ext = os.path.basename(img) # image file with extension \n",
        "\n",
        "  if index < number_of_training_data: # dataset for training\n",
        "     shutil.copyfile(img, \"/content/temp_data/train/\" + file_name_with_ext)\n",
        "  elif index >= number_of_training_data and index < number_of_data: # dataset for validation \n",
        "     shutil.copyfile(img, \"/content/temp_data/validate/\" + file_name_with_ext)\n",
        "  else:\n",
        "    break"
      ],
      "metadata": {
        "id": "QQEliRbZsYnv"
      },
      "execution_count": null,
      "outputs": []
    },
    {
      "cell_type": "code",
      "source": [
        "train_data = object_detector.DataLoader.from_pascal_voc(\n",
        "    '/content/temp_data/train',\n",
        "    '/content/temp_data/train',\n",
        "    ['cancer']\n",
        ")\n",
        "\n",
        "val_data = object_detector.DataLoader.from_pascal_voc(\n",
        "    '/content/temp_data/validate',\n",
        "    '/content/temp_data/validate',\n",
        "    ['cancer']\n",
        ")"
      ],
      "metadata": {
        "id": "53pQce05wa_r"
      },
      "execution_count": null,
      "outputs": []
    },
    {
      "cell_type": "markdown",
      "metadata": {
        "id": "UNRhB8N7GHXj"
      },
      "source": [
        "### Step 2: Select a model architecture\n",
        "\n",
        "EfficientDet-Lite[0-4] are a family of mobile/IoT-friendly object detection models derived from the [EfficientDet](https://arxiv.org/abs/1911.09070) architecture.\n",
        "\n",
        "Here is the performance of each EfficientDet-Lite models compared to each others.\n",
        "\n",
        "| Model architecture | Size(MB)* | Latency(ms)** | Average Precision*** |\n",
        "|--------------------|-----------|---------------|----------------------|\n",
        "| EfficientDet-Lite0 | 4.4       | 146           | 25.69%               |\n",
        "| EfficientDet-Lite1 | 5.8       | 259           | 30.55%               |\n",
        "| EfficientDet-Lite2 | 7.2       | 396           | 33.97%               |\n",
        "| EfficientDet-Lite3 | 11.4      | 716           | 37.70%               |\n",
        "| EfficientDet-Lite4 | 19.9      | 1886          | 41.96%               |\n",
        "\n",
        "<i> * Size of the integer quantized models. <br/>\n",
        "** Latency measured on Raspberry Pi 4 using 4 threads on CPU. <br/>\n",
        "*** Average Precision is the mAP (mean Average Precision) on the COCO 2017 validation dataset.\n",
        "</i>\n",
        "\n",
        "In this notebook, we use EfficientDet-Lite0 to train our model. You can choose other model architectures depending on whether speed or accuracy is more important to you."
      ]
    },
    {
      "cell_type": "code",
      "execution_count": null,
      "metadata": {
        "id": "GZOojrDHAY1J"
      },
      "outputs": [],
      "source": [
        "spec = model_spec.get('efficientdet_lite0')"
      ]
    },
    {
      "cell_type": "markdown",
      "metadata": {
        "id": "5aeDU4mIM4ft"
      },
      "source": [
        "### Step 3: Train the TensorFlow model with the training data.\n",
        "\n",
        "* Set `epochs = 20`, which means it will go through the training dataset 20 times. You can look at the validation accuracy during training and stop when you see validation loss (`val_loss`) stop decreasing to avoid overfitting.\n",
        "* Set `batch_size = 4` here so you will see that it takes 15 steps to go through the 62 images in the training dataset.\n",
        "* Set `train_whole_model=True` to fine-tune the whole model instead of just training the head layer to improve accuracy. The trade-off is that it may take longer to train the model."
      ]
    },
    {
      "cell_type": "code",
      "execution_count": null,
      "metadata": {
        "colab": {
          "base_uri": "https://localhost:8080/"
        },
        "id": "_MClfpsJAfda",
        "outputId": "11c0464e-4fcf-46d2-aea4-0b9c163d2db8"
      },
      "outputs": [
        {
          "output_type": "stream",
          "name": "stdout",
          "text": [
            "Epoch 1/50\n",
            "75/75 [==============================] - 57s 259ms/step - det_loss: 1.4884 - cls_loss: 0.9369 - box_loss: 0.0110 - reg_l2_loss: 0.0630 - loss: 1.5514 - learning_rate: 0.0065 - gradient_norm: 4.4327 - val_det_loss: 1.2183 - val_cls_loss: 0.6541 - val_box_loss: 0.0113 - val_reg_l2_loss: 0.0631 - val_loss: 1.2814\n",
            "Epoch 2/50\n",
            "75/75 [==============================] - 17s 232ms/step - det_loss: 1.2119 - cls_loss: 0.7103 - box_loss: 0.0100 - reg_l2_loss: 0.0631 - loss: 1.2750 - learning_rate: 0.0050 - gradient_norm: 5.0333 - val_det_loss: 1.4373 - val_cls_loss: 0.7910 - val_box_loss: 0.0129 - val_reg_l2_loss: 0.0631 - val_loss: 1.5005\n",
            "Epoch 3/50\n",
            "75/75 [==============================] - 18s 235ms/step - det_loss: 1.1460 - cls_loss: 0.6587 - box_loss: 0.0097 - reg_l2_loss: 0.0632 - loss: 1.2092 - learning_rate: 0.0050 - gradient_norm: 4.8484 - val_det_loss: 1.0914 - val_cls_loss: 0.5276 - val_box_loss: 0.0113 - val_reg_l2_loss: 0.0632 - val_loss: 1.1546\n",
            "Epoch 4/50\n",
            "75/75 [==============================] - 17s 229ms/step - det_loss: 1.1149 - cls_loss: 0.6357 - box_loss: 0.0096 - reg_l2_loss: 0.0633 - loss: 1.1781 - learning_rate: 0.0049 - gradient_norm: 4.7875 - val_det_loss: 1.1928 - val_cls_loss: 0.6505 - val_box_loss: 0.0108 - val_reg_l2_loss: 0.0633 - val_loss: 1.2561\n",
            "Epoch 5/50\n",
            "75/75 [==============================] - 25s 335ms/step - det_loss: 1.0659 - cls_loss: 0.6169 - box_loss: 0.0090 - reg_l2_loss: 0.0633 - loss: 1.1292 - learning_rate: 0.0049 - gradient_norm: 4.5355 - val_det_loss: 1.1787 - val_cls_loss: 0.6213 - val_box_loss: 0.0111 - val_reg_l2_loss: 0.0634 - val_loss: 1.2420\n",
            "Epoch 6/50\n",
            "75/75 [==============================] - 20s 269ms/step - det_loss: 1.0356 - cls_loss: 0.5982 - box_loss: 0.0087 - reg_l2_loss: 0.0634 - loss: 1.0990 - learning_rate: 0.0048 - gradient_norm: 4.7101 - val_det_loss: 1.1622 - val_cls_loss: 0.5560 - val_box_loss: 0.0121 - val_reg_l2_loss: 0.0634 - val_loss: 1.2257\n",
            "Epoch 7/50\n",
            "75/75 [==============================] - 17s 231ms/step - det_loss: 1.0301 - cls_loss: 0.5891 - box_loss: 0.0088 - reg_l2_loss: 0.0635 - loss: 1.0936 - learning_rate: 0.0048 - gradient_norm: 4.7232 - val_det_loss: 1.2145 - val_cls_loss: 0.7001 - val_box_loss: 0.0103 - val_reg_l2_loss: 0.0635 - val_loss: 1.2780\n",
            "Epoch 8/50\n",
            "75/75 [==============================] - 18s 235ms/step - det_loss: 1.0025 - cls_loss: 0.5710 - box_loss: 0.0086 - reg_l2_loss: 0.0635 - loss: 1.0661 - learning_rate: 0.0047 - gradient_norm: 4.8886 - val_det_loss: 1.0404 - val_cls_loss: 0.5521 - val_box_loss: 0.0098 - val_reg_l2_loss: 0.0635 - val_loss: 1.1039\n",
            "Epoch 9/50\n",
            "75/75 [==============================] - 18s 235ms/step - det_loss: 0.9672 - cls_loss: 0.5467 - box_loss: 0.0084 - reg_l2_loss: 0.0636 - loss: 1.0308 - learning_rate: 0.0046 - gradient_norm: 5.0043 - val_det_loss: 1.1082 - val_cls_loss: 0.6173 - val_box_loss: 0.0098 - val_reg_l2_loss: 0.0636 - val_loss: 1.1719\n",
            "Epoch 10/50\n",
            "75/75 [==============================] - 21s 274ms/step - det_loss: 0.9635 - cls_loss: 0.5440 - box_loss: 0.0084 - reg_l2_loss: 0.0636 - loss: 1.0272 - learning_rate: 0.0046 - gradient_norm: 5.0797 - val_det_loss: 1.1845 - val_cls_loss: 0.6464 - val_box_loss: 0.0108 - val_reg_l2_loss: 0.0637 - val_loss: 1.2482\n",
            "Epoch 11/50\n",
            "75/75 [==============================] - 17s 232ms/step - det_loss: 0.9481 - cls_loss: 0.5349 - box_loss: 0.0083 - reg_l2_loss: 0.0637 - loss: 1.0118 - learning_rate: 0.0045 - gradient_norm: 4.7696 - val_det_loss: 0.9485 - val_cls_loss: 0.4828 - val_box_loss: 0.0093 - val_reg_l2_loss: 0.0637 - val_loss: 1.0123\n",
            "Epoch 12/50\n",
            "75/75 [==============================] - 18s 234ms/step - det_loss: 0.9180 - cls_loss: 0.5205 - box_loss: 0.0079 - reg_l2_loss: 0.0638 - loss: 0.9817 - learning_rate: 0.0044 - gradient_norm: 5.1690 - val_det_loss: 1.1930 - val_cls_loss: 0.5805 - val_box_loss: 0.0123 - val_reg_l2_loss: 0.0638 - val_loss: 1.2568\n",
            "Epoch 13/50\n",
            "75/75 [==============================] - 17s 232ms/step - det_loss: 0.9323 - cls_loss: 0.5286 - box_loss: 0.0081 - reg_l2_loss: 0.0638 - loss: 0.9961 - learning_rate: 0.0042 - gradient_norm: 5.0690 - val_det_loss: 1.0972 - val_cls_loss: 0.6046 - val_box_loss: 0.0099 - val_reg_l2_loss: 0.0639 - val_loss: 1.1611\n",
            "Epoch 14/50\n",
            "75/75 [==============================] - 17s 233ms/step - det_loss: 0.9041 - cls_loss: 0.5165 - box_loss: 0.0078 - reg_l2_loss: 0.0639 - loss: 0.9680 - learning_rate: 0.0041 - gradient_norm: 4.5880 - val_det_loss: 0.8768 - val_cls_loss: 0.4160 - val_box_loss: 0.0092 - val_reg_l2_loss: 0.0639 - val_loss: 0.9407\n",
            "Epoch 15/50\n",
            "75/75 [==============================] - 24s 320ms/step - det_loss: 0.9045 - cls_loss: 0.5086 - box_loss: 0.0079 - reg_l2_loss: 0.0639 - loss: 0.9685 - learning_rate: 0.0040 - gradient_norm: 4.7938 - val_det_loss: 0.9784 - val_cls_loss: 0.5479 - val_box_loss: 0.0086 - val_reg_l2_loss: 0.0639 - val_loss: 1.0423\n",
            "Epoch 16/50\n",
            "75/75 [==============================] - 17s 230ms/step - det_loss: 0.8770 - cls_loss: 0.5010 - box_loss: 0.0075 - reg_l2_loss: 0.0640 - loss: 0.9410 - learning_rate: 0.0039 - gradient_norm: 5.2542 - val_det_loss: 0.7384 - val_cls_loss: 0.3728 - val_box_loss: 0.0073 - val_reg_l2_loss: 0.0640 - val_loss: 0.8024\n",
            "Epoch 17/50\n",
            "75/75 [==============================] - 17s 233ms/step - det_loss: 0.8646 - cls_loss: 0.4916 - box_loss: 0.0075 - reg_l2_loss: 0.0640 - loss: 0.9286 - learning_rate: 0.0037 - gradient_norm: 4.8815 - val_det_loss: 0.8486 - val_cls_loss: 0.4433 - val_box_loss: 0.0081 - val_reg_l2_loss: 0.0640 - val_loss: 0.9127\n",
            "Epoch 18/50\n",
            "75/75 [==============================] - 17s 232ms/step - det_loss: 0.8529 - cls_loss: 0.4835 - box_loss: 0.0074 - reg_l2_loss: 0.0640 - loss: 0.9169 - learning_rate: 0.0036 - gradient_norm: 4.9661 - val_det_loss: 1.0925 - val_cls_loss: 0.5858 - val_box_loss: 0.0101 - val_reg_l2_loss: 0.0641 - val_loss: 1.1565\n",
            "Epoch 19/50\n",
            "75/75 [==============================] - 18s 239ms/step - det_loss: 0.8544 - cls_loss: 0.4850 - box_loss: 0.0074 - reg_l2_loss: 0.0641 - loss: 0.9185 - learning_rate: 0.0034 - gradient_norm: 5.3394 - val_det_loss: 1.0353 - val_cls_loss: 0.5654 - val_box_loss: 0.0094 - val_reg_l2_loss: 0.0641 - val_loss: 1.0994\n",
            "Epoch 20/50\n",
            "75/75 [==============================] - 20s 263ms/step - det_loss: 0.8514 - cls_loss: 0.4764 - box_loss: 0.0075 - reg_l2_loss: 0.0641 - loss: 0.9155 - learning_rate: 0.0033 - gradient_norm: 5.3032 - val_det_loss: 0.9257 - val_cls_loss: 0.4688 - val_box_loss: 0.0091 - val_reg_l2_loss: 0.0641 - val_loss: 0.9898\n",
            "Epoch 21/50\n",
            "75/75 [==============================] - 17s 231ms/step - det_loss: 0.7995 - cls_loss: 0.4602 - box_loss: 0.0068 - reg_l2_loss: 0.0642 - loss: 0.8636 - learning_rate: 0.0031 - gradient_norm: 5.6363 - val_det_loss: 0.8354 - val_cls_loss: 0.4115 - val_box_loss: 0.0085 - val_reg_l2_loss: 0.0642 - val_loss: 0.8996\n",
            "Epoch 22/50\n",
            "75/75 [==============================] - 18s 236ms/step - det_loss: 0.8444 - cls_loss: 0.4757 - box_loss: 0.0074 - reg_l2_loss: 0.0642 - loss: 0.9086 - learning_rate: 0.0030 - gradient_norm: 5.6853 - val_det_loss: 0.9350 - val_cls_loss: 0.4835 - val_box_loss: 0.0090 - val_reg_l2_loss: 0.0642 - val_loss: 0.9992\n",
            "Epoch 23/50\n",
            "75/75 [==============================] - 18s 242ms/step - det_loss: 0.7667 - cls_loss: 0.4340 - box_loss: 0.0067 - reg_l2_loss: 0.0642 - loss: 0.8309 - learning_rate: 0.0028 - gradient_norm: 5.6752 - val_det_loss: 0.9406 - val_cls_loss: 0.5004 - val_box_loss: 0.0088 - val_reg_l2_loss: 0.0642 - val_loss: 1.0048\n",
            "Epoch 24/50\n",
            "75/75 [==============================] - 18s 242ms/step - det_loss: 0.7947 - cls_loss: 0.4537 - box_loss: 0.0068 - reg_l2_loss: 0.0643 - loss: 0.8590 - learning_rate: 0.0027 - gradient_norm: 6.1299 - val_det_loss: 0.8393 - val_cls_loss: 0.4284 - val_box_loss: 0.0082 - val_reg_l2_loss: 0.0643 - val_loss: 0.9036\n",
            "Epoch 25/50\n",
            "75/75 [==============================] - 23s 299ms/step - det_loss: 0.7747 - cls_loss: 0.4397 - box_loss: 0.0067 - reg_l2_loss: 0.0643 - loss: 0.8389 - learning_rate: 0.0025 - gradient_norm: 6.1331 - val_det_loss: 0.8293 - val_cls_loss: 0.4027 - val_box_loss: 0.0085 - val_reg_l2_loss: 0.0643 - val_loss: 0.8936\n",
            "Epoch 26/50\n",
            "75/75 [==============================] - 18s 238ms/step - det_loss: 0.7547 - cls_loss: 0.4203 - box_loss: 0.0067 - reg_l2_loss: 0.0643 - loss: 0.8190 - learning_rate: 0.0023 - gradient_norm: 6.4429 - val_det_loss: 0.9274 - val_cls_loss: 0.4453 - val_box_loss: 0.0096 - val_reg_l2_loss: 0.0643 - val_loss: 0.9918\n",
            "Epoch 27/50\n",
            "75/75 [==============================] - 18s 244ms/step - det_loss: 0.7644 - cls_loss: 0.4282 - box_loss: 0.0067 - reg_l2_loss: 0.0643 - loss: 0.8288 - learning_rate: 0.0022 - gradient_norm: 6.2279 - val_det_loss: 0.7468 - val_cls_loss: 0.3828 - val_box_loss: 0.0073 - val_reg_l2_loss: 0.0643 - val_loss: 0.8112\n",
            "Epoch 28/50\n",
            "75/75 [==============================] - 18s 234ms/step - det_loss: 0.7409 - cls_loss: 0.4194 - box_loss: 0.0064 - reg_l2_loss: 0.0644 - loss: 0.8053 - learning_rate: 0.0020 - gradient_norm: 6.4090 - val_det_loss: 0.8402 - val_cls_loss: 0.4241 - val_box_loss: 0.0083 - val_reg_l2_loss: 0.0644 - val_loss: 0.9045\n",
            "Epoch 29/50\n",
            "75/75 [==============================] - 18s 234ms/step - det_loss: 0.7330 - cls_loss: 0.4232 - box_loss: 0.0062 - reg_l2_loss: 0.0644 - loss: 0.7974 - learning_rate: 0.0019 - gradient_norm: 6.3232 - val_det_loss: 0.8164 - val_cls_loss: 0.4236 - val_box_loss: 0.0079 - val_reg_l2_loss: 0.0644 - val_loss: 0.8808\n",
            "Epoch 30/50\n",
            "75/75 [==============================] - 20s 261ms/step - det_loss: 0.7368 - cls_loss: 0.4209 - box_loss: 0.0063 - reg_l2_loss: 0.0644 - loss: 0.8012 - learning_rate: 0.0017 - gradient_norm: 6.5729 - val_det_loss: 0.7549 - val_cls_loss: 0.3791 - val_box_loss: 0.0075 - val_reg_l2_loss: 0.0644 - val_loss: 0.8193\n",
            "Epoch 31/50\n",
            "75/75 [==============================] - 17s 232ms/step - det_loss: 0.7436 - cls_loss: 0.4175 - box_loss: 0.0065 - reg_l2_loss: 0.0644 - loss: 0.8080 - learning_rate: 0.0016 - gradient_norm: 6.7245 - val_det_loss: 0.6491 - val_cls_loss: 0.3257 - val_box_loss: 0.0065 - val_reg_l2_loss: 0.0644 - val_loss: 0.7135\n",
            "Epoch 32/50\n",
            "75/75 [==============================] - 18s 236ms/step - det_loss: 0.6831 - cls_loss: 0.3874 - box_loss: 0.0059 - reg_l2_loss: 0.0644 - loss: 0.7475 - learning_rate: 0.0014 - gradient_norm: 6.4054 - val_det_loss: 0.9185 - val_cls_loss: 0.4698 - val_box_loss: 0.0090 - val_reg_l2_loss: 0.0644 - val_loss: 0.9830\n",
            "Epoch 33/50\n",
            "75/75 [==============================] - 18s 233ms/step - det_loss: 0.6957 - cls_loss: 0.4028 - box_loss: 0.0059 - reg_l2_loss: 0.0644 - loss: 0.7602 - learning_rate: 0.0013 - gradient_norm: 6.7321 - val_det_loss: 0.7686 - val_cls_loss: 0.3883 - val_box_loss: 0.0076 - val_reg_l2_loss: 0.0644 - val_loss: 0.8330\n",
            "Epoch 34/50\n",
            "75/75 [==============================] - 21s 276ms/step - det_loss: 0.7041 - cls_loss: 0.4037 - box_loss: 0.0060 - reg_l2_loss: 0.0644 - loss: 0.7685 - learning_rate: 0.0011 - gradient_norm: 6.6894 - val_det_loss: 0.8976 - val_cls_loss: 0.4232 - val_box_loss: 0.0095 - val_reg_l2_loss: 0.0644 - val_loss: 0.9620\n",
            "Epoch 35/50\n",
            "75/75 [==============================] - 20s 264ms/step - det_loss: 0.6728 - cls_loss: 0.3872 - box_loss: 0.0057 - reg_l2_loss: 0.0644 - loss: 0.7372 - learning_rate: 0.0010 - gradient_norm: 6.7733 - val_det_loss: 0.8126 - val_cls_loss: 0.3827 - val_box_loss: 0.0086 - val_reg_l2_loss: 0.0644 - val_loss: 0.8771\n",
            "Epoch 36/50\n",
            "75/75 [==============================] - 18s 237ms/step - det_loss: 0.6580 - cls_loss: 0.3754 - box_loss: 0.0057 - reg_l2_loss: 0.0644 - loss: 0.7224 - learning_rate: 8.7973e-04 - gradient_norm: 7.0965 - val_det_loss: 0.8830 - val_cls_loss: 0.4054 - val_box_loss: 0.0096 - val_reg_l2_loss: 0.0644 - val_loss: 0.9475\n",
            "Epoch 37/50\n",
            "75/75 [==============================] - 17s 232ms/step - det_loss: 0.6697 - cls_loss: 0.3800 - box_loss: 0.0058 - reg_l2_loss: 0.0644 - loss: 0.7341 - learning_rate: 7.6112e-04 - gradient_norm: 6.9654 - val_det_loss: 0.7729 - val_cls_loss: 0.3774 - val_box_loss: 0.0079 - val_reg_l2_loss: 0.0644 - val_loss: 0.8373\n",
            "Epoch 38/50\n",
            "75/75 [==============================] - 17s 232ms/step - det_loss: 0.6561 - cls_loss: 0.3768 - box_loss: 0.0056 - reg_l2_loss: 0.0644 - loss: 0.7206 - learning_rate: 6.4965e-04 - gradient_norm: 6.9047 - val_det_loss: 0.8717 - val_cls_loss: 0.3988 - val_box_loss: 0.0095 - val_reg_l2_loss: 0.0644 - val_loss: 0.9362\n",
            "Epoch 39/50\n",
            "75/75 [==============================] - 17s 229ms/step - det_loss: 0.6591 - cls_loss: 0.3760 - box_loss: 0.0057 - reg_l2_loss: 0.0644 - loss: 0.7235 - learning_rate: 5.4578e-04 - gradient_norm: 7.1475 - val_det_loss: 0.9327 - val_cls_loss: 0.4251 - val_box_loss: 0.0102 - val_reg_l2_loss: 0.0644 - val_loss: 0.9971\n",
            "Epoch 40/50\n",
            "75/75 [==============================] - 20s 267ms/step - det_loss: 0.6465 - cls_loss: 0.3689 - box_loss: 0.0056 - reg_l2_loss: 0.0644 - loss: 0.7110 - learning_rate: 4.4995e-04 - gradient_norm: 7.3777 - val_det_loss: 0.8964 - val_cls_loss: 0.4031 - val_box_loss: 0.0099 - val_reg_l2_loss: 0.0644 - val_loss: 0.9608\n",
            "Epoch 41/50\n",
            "75/75 [==============================] - 17s 232ms/step - det_loss: 0.6175 - cls_loss: 0.3524 - box_loss: 0.0053 - reg_l2_loss: 0.0644 - loss: 0.6820 - learning_rate: 3.6253e-04 - gradient_norm: 6.9365 - val_det_loss: 0.6778 - val_cls_loss: 0.3149 - val_box_loss: 0.0073 - val_reg_l2_loss: 0.0644 - val_loss: 0.7422\n",
            "Epoch 42/50\n",
            "75/75 [==============================] - 17s 230ms/step - det_loss: 0.6266 - cls_loss: 0.3571 - box_loss: 0.0054 - reg_l2_loss: 0.0644 - loss: 0.6911 - learning_rate: 2.8390e-04 - gradient_norm: 7.2618 - val_det_loss: 0.7183 - val_cls_loss: 0.3394 - val_box_loss: 0.0076 - val_reg_l2_loss: 0.0644 - val_loss: 0.7827\n",
            "Epoch 43/50\n",
            "75/75 [==============================] - 17s 232ms/step - det_loss: 0.6170 - cls_loss: 0.3519 - box_loss: 0.0053 - reg_l2_loss: 0.0644 - loss: 0.6815 - learning_rate: 2.1438e-04 - gradient_norm: 6.8747 - val_det_loss: 0.7286 - val_cls_loss: 0.3548 - val_box_loss: 0.0075 - val_reg_l2_loss: 0.0644 - val_loss: 0.7931\n",
            "Epoch 44/50\n",
            "75/75 [==============================] - 21s 277ms/step - det_loss: 0.6152 - cls_loss: 0.3522 - box_loss: 0.0053 - reg_l2_loss: 0.0644 - loss: 0.6797 - learning_rate: 1.5425e-04 - gradient_norm: 7.1266 - val_det_loss: 0.6786 - val_cls_loss: 0.3309 - val_box_loss: 0.0070 - val_reg_l2_loss: 0.0644 - val_loss: 0.7430\n",
            "Epoch 45/50\n",
            "75/75 [==============================] - 20s 269ms/step - det_loss: 0.6249 - cls_loss: 0.3575 - box_loss: 0.0053 - reg_l2_loss: 0.0644 - loss: 0.6893 - learning_rate: 1.0376e-04 - gradient_norm: 7.3019 - val_det_loss: 0.6763 - val_cls_loss: 0.3316 - val_box_loss: 0.0069 - val_reg_l2_loss: 0.0644 - val_loss: 0.7408\n",
            "Epoch 46/50\n",
            "75/75 [==============================] - 18s 234ms/step - det_loss: 0.6178 - cls_loss: 0.3548 - box_loss: 0.0053 - reg_l2_loss: 0.0644 - loss: 0.6823 - learning_rate: 6.3114e-05 - gradient_norm: 6.9879 - val_det_loss: 0.7133 - val_cls_loss: 0.3436 - val_box_loss: 0.0074 - val_reg_l2_loss: 0.0644 - val_loss: 0.7777\n",
            "Epoch 47/50\n",
            "75/75 [==============================] - 17s 230ms/step - det_loss: 0.6416 - cls_loss: 0.3693 - box_loss: 0.0054 - reg_l2_loss: 0.0644 - loss: 0.7060 - learning_rate: 3.2483e-05 - gradient_norm: 7.3534 - val_det_loss: 0.7065 - val_cls_loss: 0.3381 - val_box_loss: 0.0074 - val_reg_l2_loss: 0.0644 - val_loss: 0.7709\n",
            "Epoch 48/50\n",
            "75/75 [==============================] - 17s 230ms/step - det_loss: 0.6080 - cls_loss: 0.3503 - box_loss: 0.0052 - reg_l2_loss: 0.0644 - loss: 0.6725 - learning_rate: 1.1992e-05 - gradient_norm: 7.1678 - val_det_loss: 0.7174 - val_cls_loss: 0.3413 - val_box_loss: 0.0075 - val_reg_l2_loss: 0.0644 - val_loss: 0.7819\n",
            "Epoch 49/50\n",
            "75/75 [==============================] - 18s 236ms/step - det_loss: 0.6311 - cls_loss: 0.3658 - box_loss: 0.0053 - reg_l2_loss: 0.0644 - loss: 0.6955 - learning_rate: 1.7238e-06 - gradient_norm: 7.4482 - val_det_loss: 0.7235 - val_cls_loss: 0.3429 - val_box_loss: 0.0076 - val_reg_l2_loss: 0.0644 - val_loss: 0.7879\n",
            "Epoch 50/50\n",
            "75/75 [==============================] - 19s 260ms/step - det_loss: 0.6167 - cls_loss: 0.3555 - box_loss: 0.0052 - reg_l2_loss: 0.0644 - loss: 0.6812 - learning_rate: 1.7220e-06 - gradient_norm: 6.9492 - val_det_loss: 0.7131 - val_cls_loss: 0.3392 - val_box_loss: 0.0075 - val_reg_l2_loss: 0.0644 - val_loss: 0.7775\n"
          ]
        }
      ],
      "source": [
        "model = object_detector.create(train_data, model_spec=spec, batch_size=4, train_whole_model=True, epochs=50, validation_data=val_data)"
      ]
    },
    {
      "cell_type": "markdown",
      "metadata": {
        "id": "KB4hKeerMmh4"
      },
      "source": [
        "### Step 4. Evaluate the model with the validation data.\n",
        "\n",
        "After training the object detection model using the images in the training dataset, use the 10 images in the validation dataset to evaluate how the model performs against new data it has never seen before.\n",
        "\n",
        "As the default batch size is 64, it will take 1 step to go through the 10 images in the validation dataset.\n",
        "\n",
        "The evaluation metrics are same as [COCO](https://cocodataset.org/#detection-eval)."
      ]
    },
    {
      "cell_type": "code",
      "execution_count": null,
      "metadata": {
        "colab": {
          "base_uri": "https://localhost:8080/"
        },
        "id": "OUqEpcYwAg8L",
        "outputId": "2e9d2274-4766-4889-eebf-660ea293e7c5"
      },
      "outputs": [
        {
          "output_type": "stream",
          "name": "stdout",
          "text": [
            "\r1/1 [==============================] - 10s 10s/step\n",
            "\n"
          ]
        },
        {
          "output_type": "execute_result",
          "data": {
            "text/plain": [
              "{'AP': 0.070577994,\n",
              " 'AP50': 0.28143898,\n",
              " 'AP75': 0.027996669,\n",
              " 'APs': -1.0,\n",
              " 'APm': -1.0,\n",
              " 'APl': 0.0708233,\n",
              " 'ARmax1': 0.105405405,\n",
              " 'ARmax10': 0.27837837,\n",
              " 'ARmax100': 0.31351352,\n",
              " 'ARs': -1.0,\n",
              " 'ARm': -1.0,\n",
              " 'ARl': 0.31351352,\n",
              " 'AP_/cancer': 0.070577994}"
            ]
          },
          "metadata": {},
          "execution_count": 13
        }
      ],
      "source": [
        "model.evaluate(val_data)"
      ]
    },
    {
      "cell_type": "markdown",
      "metadata": {
        "id": "NARVYk9rGLIl"
      },
      "source": [
        "### Step 5: Export as a TensorFlow Lite model.\n",
        "\n",
        "Export the trained object detection model to the TensorFlow Lite format by specifying which folder you want to export the quantized model to. The default post-training quantization technique is [full integer quantization](https://www.tensorflow.org/lite/performance/post_training_integer_quant). This allows the TensorFlow Lite model to be smaller, run faster on Raspberry Pi CPU and also compatible with the Google Coral EdgeTPU."
      ]
    },
    {
      "cell_type": "code",
      "execution_count": null,
      "metadata": {
        "id": "_u3eFxoBAiqE"
      },
      "outputs": [],
      "source": [
        "model.export(export_dir='.', tflite_filename='android.tflite')"
      ]
    },
    {
      "cell_type": "markdown",
      "metadata": {
        "id": "JZcBmEigOCO3"
      },
      "source": [
        "### Step 6:  Evaluate the TensorFlow Lite model.\n",
        "\n",
        "Several factors can affect the model accuracy when exporting to TFLite:\n",
        "* [Quantization](https://www.tensorflow.org/lite/performance/model_optimization) helps shrinking the model size by 4 times at the expense of some accuracy drop.\n",
        "* The original TensorFlow model uses per-class [non-max supression (NMS)](https://www.coursera.org/lecture/convolutional-neural-networks/non-max-suppression-dvrjH) for post-processing, while the TFLite model uses global NMS that's much faster but less accurate.\n",
        "Keras outputs maximum 100 detections while tflite outputs maximum 25 detections.\n",
        "\n",
        "Therefore you'll have to evaluate the exported TFLite model and compare its accuracy with the original TensorFlow model."
      ]
    },
    {
      "cell_type": "code",
      "execution_count": null,
      "metadata": {
        "colab": {
          "base_uri": "https://localhost:8080/"
        },
        "id": "Jbl8z9_wBPlr",
        "outputId": "667870db-447e-484e-9ded-112b43cfd126"
      },
      "outputs": [
        {
          "output_type": "stream",
          "name": "stdout",
          "text": [
            "37/37 [==============================] - 94s 3s/step\n",
            "\n"
          ]
        },
        {
          "output_type": "execute_result",
          "data": {
            "text/plain": [
              "{'AP': 0.081366844,\n",
              " 'AP50': 0.3079682,\n",
              " 'AP75': 0.02510475,\n",
              " 'APs': -1.0,\n",
              " 'APm': -1.0,\n",
              " 'APl': 0.0814206,\n",
              " 'ARmax1': 0.12162162,\n",
              " 'ARmax10': 0.2891892,\n",
              " 'ARmax100': 0.36216217,\n",
              " 'ARs': -1.0,\n",
              " 'ARm': -1.0,\n",
              " 'ARl': 0.36216217,\n",
              " 'AP_/cancer': 0.081366844}"
            ]
          },
          "metadata": {},
          "execution_count": 15
        }
      ],
      "source": [
        "model.evaluate_tflite('android.tflite', val_data)"
      ]
    },
    {
      "cell_type": "code",
      "execution_count": null,
      "metadata": {
        "colab": {
          "base_uri": "https://localhost:8080/",
          "height": 17
        },
        "id": "v7zgUkdOUUnD",
        "outputId": "365d09e0-514a-4ea5-85de-aa446d937a34"
      },
      "outputs": [
        {
          "output_type": "display_data",
          "data": {
            "text/plain": [
              "<IPython.core.display.Javascript object>"
            ],
            "application/javascript": [
              "\n",
              "    async function download(id, filename, size) {\n",
              "      if (!google.colab.kernel.accessAllowed) {\n",
              "        return;\n",
              "      }\n",
              "      const div = document.createElement('div');\n",
              "      const label = document.createElement('label');\n",
              "      label.textContent = `Downloading \"${filename}\": `;\n",
              "      div.appendChild(label);\n",
              "      const progress = document.createElement('progress');\n",
              "      progress.max = size;\n",
              "      div.appendChild(progress);\n",
              "      document.body.appendChild(div);\n",
              "\n",
              "      const buffers = [];\n",
              "      let downloaded = 0;\n",
              "\n",
              "      const channel = await google.colab.kernel.comms.open(id);\n",
              "      // Send a message to notify the kernel that we're ready.\n",
              "      channel.send({})\n",
              "\n",
              "      for await (const message of channel.messages) {\n",
              "        // Send a message to notify the kernel that we're ready.\n",
              "        channel.send({})\n",
              "        if (message.buffers) {\n",
              "          for (const buffer of message.buffers) {\n",
              "            buffers.push(buffer);\n",
              "            downloaded += buffer.byteLength;\n",
              "            progress.value = downloaded;\n",
              "          }\n",
              "        }\n",
              "      }\n",
              "      const blob = new Blob(buffers, {type: 'application/binary'});\n",
              "      const a = document.createElement('a');\n",
              "      a.href = window.URL.createObjectURL(blob);\n",
              "      a.download = filename;\n",
              "      div.appendChild(a);\n",
              "      a.click();\n",
              "      div.remove();\n",
              "    }\n",
              "  "
            ]
          },
          "metadata": {}
        },
        {
          "output_type": "display_data",
          "data": {
            "text/plain": [
              "<IPython.core.display.Javascript object>"
            ],
            "application/javascript": [
              "download(\"download_5c6fe52e-7245-4f86-ab50-726c21afc53b\", \"android.tflite\", 4444717)"
            ]
          },
          "metadata": {}
        }
      ],
      "source": [
        "# Download the TFLite model to your local computer.\n",
        "from google.colab import files\n",
        "files.download('android.tflite')"
      ]
    },
    {
      "cell_type": "markdown",
      "metadata": {
        "id": "wnqktl45PZRy"
      },
      "source": [
        "## Test the Android figurine detection model\n",
        "\n",
        "After training the model, let's test it with an image that the model hasn't seen before to get a sense of how good the model is."
      ]
    },
    {
      "cell_type": "code",
      "execution_count": null,
      "metadata": {
        "id": "9ZsLQtJ1AlW_"
      },
      "outputs": [],
      "source": [
        "#@title Load the trained TFLite model and define some visualization functions\n",
        "\n",
        "#@markdown This code comes from the TFLite Object Detection [Raspberry Pi sample](https://github.com/tensorflow/examples/tree/master/lite/examples/object_detection/raspberry_pi).\n",
        "\n",
        "import platform\n",
        "from typing import List, NamedTuple\n",
        "import json\n",
        "\n",
        "import cv2\n",
        "\n",
        "Interpreter = tf.lite.Interpreter\n",
        "load_delegate = tf.lite.experimental.load_delegate\n",
        "\n",
        "# pylint: enable=g-import-not-at-top\n",
        "\n",
        "\n",
        "class ObjectDetectorOptions(NamedTuple):\n",
        "  \"\"\"A config to initialize an object detector.\"\"\"\n",
        "\n",
        "  enable_edgetpu: bool = False\n",
        "  \"\"\"Enable the model to run on EdgeTPU.\"\"\"\n",
        "\n",
        "  label_allow_list: List[str] = None\n",
        "  \"\"\"The optional allow list of labels.\"\"\"\n",
        "\n",
        "  label_deny_list: List[str] = None\n",
        "  \"\"\"The optional deny list of labels.\"\"\"\n",
        "\n",
        "  max_results: int = -1\n",
        "  \"\"\"The maximum number of top-scored detection results to return.\"\"\"\n",
        "\n",
        "  num_threads: int = 1\n",
        "  \"\"\"The number of CPU threads to be used.\"\"\"\n",
        "\n",
        "  score_threshold: float = 0.0\n",
        "  \"\"\"The score threshold of detection results to return.\"\"\"\n",
        "\n",
        "\n",
        "class Rect(NamedTuple):\n",
        "  \"\"\"A rectangle in 2D space.\"\"\"\n",
        "  left: float\n",
        "  top: float\n",
        "  right: float\n",
        "  bottom: float\n",
        "\n",
        "\n",
        "class Category(NamedTuple):\n",
        "  \"\"\"A result of a classification task.\"\"\"\n",
        "  label: str\n",
        "  score: float\n",
        "  index: int\n",
        "\n",
        "\n",
        "class Detection(NamedTuple):\n",
        "  \"\"\"A detected object as the result of an ObjectDetector.\"\"\"\n",
        "  bounding_box: Rect\n",
        "  categories: List[Category]\n",
        "\n",
        "\n",
        "def edgetpu_lib_name():\n",
        "  \"\"\"Returns the library name of EdgeTPU in the current platform.\"\"\"\n",
        "  return {\n",
        "      'Darwin': 'libedgetpu.1.dylib',\n",
        "      'Linux': 'libedgetpu.so.1',\n",
        "      'Windows': 'edgetpu.dll',\n",
        "  }.get(platform.system(), None)\n",
        "\n",
        "\n",
        "class ObjectDetector:\n",
        "  \"\"\"A wrapper class for a TFLite object detection model.\"\"\"\n",
        "\n",
        "  _OUTPUT_LOCATION_NAME = 'location'\n",
        "  _OUTPUT_CATEGORY_NAME = 'category'\n",
        "  _OUTPUT_SCORE_NAME = 'score'\n",
        "  _OUTPUT_NUMBER_NAME = 'number of detections'\n",
        "\n",
        "  def __init__(\n",
        "      self,\n",
        "      model_path: str,\n",
        "      options: ObjectDetectorOptions = ObjectDetectorOptions()\n",
        "  ) -> None:\n",
        "    \"\"\"Initialize a TFLite object detection model.\n",
        "    Args:\n",
        "        model_path: Path to the TFLite model.\n",
        "        options: The config to initialize an object detector. (Optional)\n",
        "    Raises:\n",
        "        ValueError: If the TFLite model is invalid.\n",
        "        OSError: If the current OS isn't supported by EdgeTPU.\n",
        "    \"\"\"\n",
        "\n",
        "    # Load metadata from model.\n",
        "    displayer = metadata.MetadataDisplayer.with_model_file(model_path)\n",
        "\n",
        "    # Save model metadata for preprocessing later.\n",
        "    model_metadata = json.loads(displayer.get_metadata_json())\n",
        "    process_units = model_metadata['subgraph_metadata'][0]['input_tensor_metadata'][0]['process_units']\n",
        "    mean = 0.0\n",
        "    std = 1.0\n",
        "    for option in process_units:\n",
        "      if option['options_type'] == 'NormalizationOptions':\n",
        "        mean = option['options']['mean'][0]\n",
        "        std = option['options']['std'][0]\n",
        "    self._mean = mean\n",
        "    self._std = std\n",
        "\n",
        "    # Load label list from metadata.\n",
        "    file_name = displayer.get_packed_associated_file_list()[0]\n",
        "    label_map_file = displayer.get_associated_file_buffer(file_name).decode()\n",
        "    label_list = list(filter(lambda x: len(x) > 0, label_map_file.splitlines()))\n",
        "    self._label_list = label_list\n",
        "\n",
        "    # Initialize TFLite model.\n",
        "    if options.enable_edgetpu:\n",
        "      if edgetpu_lib_name() is None:\n",
        "        raise OSError(\"The current OS isn't supported by Coral EdgeTPU.\")\n",
        "      interpreter = Interpreter(\n",
        "          model_path=model_path,\n",
        "          experimental_delegates=[load_delegate(edgetpu_lib_name())],\n",
        "          num_threads=options.num_threads)\n",
        "    else:\n",
        "      interpreter = Interpreter(\n",
        "          model_path=model_path, num_threads=options.num_threads)\n",
        "\n",
        "    interpreter.allocate_tensors()\n",
        "    input_detail = interpreter.get_input_details()[0]\n",
        "\n",
        "    # From TensorFlow 2.6, the order of the outputs become undefined.\n",
        "    # Therefore we need to sort the tensor indices of TFLite outputs and to know\n",
        "    # exactly the meaning of each output tensor. For example, if\n",
        "    # output indices are [601, 599, 598, 600], tensor names and indices aligned\n",
        "    # are:\n",
        "    #   - location: 598\n",
        "    #   - category: 599\n",
        "    #   - score: 600\n",
        "    #   - detection_count: 601\n",
        "    # because of the op's ports of TFLITE_DETECTION_POST_PROCESS\n",
        "    # (https://github.com/tensorflow/tensorflow/blob/a4fe268ea084e7d323133ed7b986e0ae259a2bc7/tensorflow/lite/kernels/detection_postprocess.cc#L47-L50).\n",
        "    sorted_output_indices = sorted(\n",
        "        [output['index'] for output in interpreter.get_output_details()])\n",
        "    self._output_indices = {\n",
        "        self._OUTPUT_LOCATION_NAME: sorted_output_indices[0],\n",
        "        self._OUTPUT_CATEGORY_NAME: sorted_output_indices[1],\n",
        "        self._OUTPUT_SCORE_NAME: sorted_output_indices[2],\n",
        "        self._OUTPUT_NUMBER_NAME: sorted_output_indices[3],\n",
        "    }\n",
        "\n",
        "    self._input_size = input_detail['shape'][2], input_detail['shape'][1]\n",
        "    self._is_quantized_input = input_detail['dtype'] == np.uint8\n",
        "    self._interpreter = interpreter\n",
        "    self._options = options\n",
        "\n",
        "  def detect(self, input_image: np.ndarray) -> List[Detection]:\n",
        "    \"\"\"Run detection on an input image.\n",
        "    Args:\n",
        "        input_image: A [height, width, 3] RGB image. Note that height and width\n",
        "          can be anything since the image will be immediately resized according\n",
        "          to the needs of the model within this function.\n",
        "    Returns:\n",
        "        A Person instance.\n",
        "    \"\"\"\n",
        "    image_height, image_width, _ = input_image.shape\n",
        "\n",
        "    input_tensor = self._preprocess(input_image)\n",
        "\n",
        "    self._set_input_tensor(input_tensor)\n",
        "    self._interpreter.invoke()\n",
        "\n",
        "    # Get all output details\n",
        "    boxes = self._get_output_tensor(self._OUTPUT_LOCATION_NAME)\n",
        "    classes = self._get_output_tensor(self._OUTPUT_CATEGORY_NAME)\n",
        "    scores = self._get_output_tensor(self._OUTPUT_SCORE_NAME)\n",
        "    count = int(self._get_output_tensor(self._OUTPUT_NUMBER_NAME))\n",
        "\n",
        "    return self._postprocess(boxes, classes, scores, count, image_width,\n",
        "                             image_height)\n",
        "\n",
        "  def _preprocess(self, input_image: np.ndarray) -> np.ndarray:\n",
        "    \"\"\"Preprocess the input image as required by the TFLite model.\"\"\"\n",
        "\n",
        "    # Resize the input\n",
        "    input_tensor = cv2.resize(input_image, self._input_size)\n",
        "\n",
        "    # Normalize the input if it's a float model (aka. not quantized)\n",
        "    if not self._is_quantized_input:\n",
        "      input_tensor = (np.float32(input_tensor) - self._mean) / self._std\n",
        "\n",
        "    # Add batch dimension\n",
        "    input_tensor = np.expand_dims(input_tensor, axis=0)\n",
        "\n",
        "    return input_tensor\n",
        "\n",
        "  def _set_input_tensor(self, image):\n",
        "    \"\"\"Sets the input tensor.\"\"\"\n",
        "    tensor_index = self._interpreter.get_input_details()[0]['index']\n",
        "    input_tensor = self._interpreter.tensor(tensor_index)()[0]\n",
        "    input_tensor[:, :] = image\n",
        "\n",
        "  def _get_output_tensor(self, name):\n",
        "    \"\"\"Returns the output tensor at the given index.\"\"\"\n",
        "    output_index = self._output_indices[name]\n",
        "    tensor = np.squeeze(self._interpreter.get_tensor(output_index))\n",
        "    return tensor\n",
        "\n",
        "  def _postprocess(self, boxes: np.ndarray, classes: np.ndarray,\n",
        "                   scores: np.ndarray, count: int, image_width: int,\n",
        "                   image_height: int) -> List[Detection]:\n",
        "    \"\"\"Post-process the output of TFLite model into a list of Detection objects.\n",
        "    Args:\n",
        "        boxes: Bounding boxes of detected objects from the TFLite model.\n",
        "        classes: Class index of the detected objects from the TFLite model.\n",
        "        scores: Confidence scores of the detected objects from the TFLite model.\n",
        "        count: Number of detected objects from the TFLite model.\n",
        "        image_width: Width of the input image.\n",
        "        image_height: Height of the input image.\n",
        "    Returns:\n",
        "        A list of Detection objects detected by the TFLite model.\n",
        "    \"\"\"\n",
        "    results = []\n",
        "\n",
        "    # Parse the model output into a list of Detection entities.\n",
        "    for i in range(count):\n",
        "      if scores[i] >= self._options.score_threshold:\n",
        "        y_min, x_min, y_max, x_max = boxes[i]\n",
        "        bounding_box = Rect(\n",
        "            top=int(y_min * image_height),\n",
        "            left=int(x_min * image_width),\n",
        "            bottom=int(y_max * image_height),\n",
        "            right=int(x_max * image_width))\n",
        "        class_id = int(classes[i])\n",
        "        category = Category(\n",
        "            score=scores[i],\n",
        "            label=self._label_list[class_id],  # 0 is reserved for background\n",
        "            index=class_id)\n",
        "        result = Detection(bounding_box=bounding_box, categories=[category])\n",
        "        results.append(result)\n",
        "\n",
        "    # Sort detection results by score ascending\n",
        "    sorted_results = sorted(\n",
        "        results,\n",
        "        key=lambda detection: detection.categories[0].score,\n",
        "        reverse=True)\n",
        "\n",
        "    # Filter out detections in deny list\n",
        "    filtered_results = sorted_results\n",
        "    if self._options.label_deny_list is not None:\n",
        "      filtered_results = list(\n",
        "          filter(\n",
        "              lambda detection: detection.categories[0].label not in self.\n",
        "              _options.label_deny_list, filtered_results))\n",
        "\n",
        "    # Keep only detections in allow list\n",
        "    if self._options.label_allow_list is not None:\n",
        "      filtered_results = list(\n",
        "          filter(\n",
        "              lambda detection: detection.categories[0].label in self._options.\n",
        "              label_allow_list, filtered_results))\n",
        "\n",
        "    # Only return maximum of max_results detection.\n",
        "    if self._options.max_results > 0:\n",
        "      result_count = min(len(filtered_results), self._options.max_results)\n",
        "      filtered_results = filtered_results[:result_count]\n",
        "\n",
        "    return filtered_results\n",
        "\n",
        "\n",
        "_MARGIN = 10  # pixels\n",
        "_ROW_SIZE = 10  # pixels\n",
        "_FONT_SIZE = 1\n",
        "_FONT_THICKNESS = 1\n",
        "_TEXT_COLOR = (0, 0, 255)  # red\n",
        "\n",
        "\n",
        "def visualize(\n",
        "    image: np.ndarray,\n",
        "    detections: List[Detection],\n",
        ") -> np.ndarray:\n",
        "  \"\"\"Draws bounding boxes on the input image and return it.\n",
        "  Args:\n",
        "    image: The input RGB image.\n",
        "    detections: The list of all \"Detection\" entities to be visualize.\n",
        "  Returns:\n",
        "    Image with bounding boxes.\n",
        "  \"\"\"\n",
        "  for detection in detections:\n",
        "    # Draw bounding_box\n",
        "    start_point = detection.bounding_box.left, detection.bounding_box.top\n",
        "    end_point = detection.bounding_box.right, detection.bounding_box.bottom\n",
        "    cv2.rectangle(image, start_point, end_point, _TEXT_COLOR, 3)\n",
        "\n",
        "    # Draw label and score\n",
        "    category = detection.categories[0]\n",
        "    class_name = category.label\n",
        "    probability = round(category.score, 2)\n",
        "    result_text = class_name + ' (' + str(probability) + ')'\n",
        "    text_location = (_MARGIN + detection.bounding_box.left,\n",
        "                     _MARGIN + _ROW_SIZE + detection.bounding_box.top)\n",
        "    cv2.putText(image, result_text, text_location, cv2.FONT_HERSHEY_PLAIN,\n",
        "                _FONT_SIZE, _TEXT_COLOR, _FONT_THICKNESS)\n",
        "\n",
        "  return image"
      ]
    },
    {
      "cell_type": "code",
      "execution_count": null,
      "metadata": {
        "id": "1t1z2fKlAoB0",
        "cellView": "form"
      },
      "outputs": [],
      "source": [
        "#@title Run object detection and show the detection results\n",
        "\n",
        "from PIL import Image\n",
        "\n",
        "INPUT_IMAGE_URL = \"http://download.tensorflow.org/example_images/android_figurine.jpg\" #@param {type:\"string\"}\n",
        "DETECTION_THRESHOLD = 0.5 #@param {type:\"number\"}\n",
        "TFLITE_MODEL_PATH = \"android.tflite\" #@param {type:\"string\"}\n",
        "\n",
        "TEMP_FILE = '/tmp/image.png'\n",
        "\n",
        "!wget -q -O $TEMP_FILE $INPUT_IMAGE_URL\n",
        "image = Image.open(TEMP_FILE).convert('RGB')\n",
        "image.thumbnail((512, 512), Image.ANTIALIAS)\n",
        "image_np = np.asarray(image)\n",
        "\n",
        "# Load the TFLite model\n",
        "options = ObjectDetectorOptions(\n",
        "      num_threads=4,\n",
        "      score_threshold=DETECTION_THRESHOLD,\n",
        ")\n",
        "detector = ObjectDetector(model_path=TFLITE_MODEL_PATH, options=options)\n",
        "\n",
        "# Run object detection estimation using the model.\n",
        "detections = detector.detect(image_np)\n",
        "\n",
        "# Draw keypoints and edges on input image\n",
        "image_np = visualize(image_np, detections)\n",
        "\n",
        "# Show the detection result\n",
        "Image.fromarray(image_np)"
      ]
    },
    {
      "cell_type": "code",
      "source": [
        "#@title Run object detection and show the detection results\n",
        "\n",
        "from PIL import Image\n",
        "\n",
        "# INPUT_IMAGE_URL = \"http://download.tensorflow.org/example_images/android_figurine.jpg\" #@param {type:\"string\"}\n",
        "# DETECTION_THRESHOLD = 0.5 #@param {type:\"number\"}\n",
        "# TFLITE_MODEL_PATH = \"android.tflite\" #@param {type:\"string\"}\n",
        "\n",
        "DETECTION_THRESHOLD = 0.5\n",
        "TFLITE_MODEL_PATH = \"android.tflite\"\n",
        "# TEMP_FILE = '/tmp/image.png'\n",
        "# TEMP_FILE = \"/content/temp_data/train/00142283_201109_GI_CA_AGAW_0003.jpg\"\n",
        "TEMP_FILE = \"/content/temp_data/train/00142283_201109_GI_CA_AGAW_0006.jpg\"\n",
        "\n",
        "# !wget -q -O $TEMP_FILE $INPUT_IMAGE_URL\n",
        "image = Image.open(TEMP_FILE).convert('RGB')\n",
        "# image.thumbnail((512, 512), Image.ANTIALIAS)\n",
        "image_np = np.asarray(image)\n",
        "\n",
        "# Load the TFLite model\n",
        "options = ObjectDetectorOptions(\n",
        "      num_threads=4,\n",
        "      score_threshold=DETECTION_THRESHOLD,\n",
        ")\n",
        "detector = ObjectDetector(model_path=TFLITE_MODEL_PATH, options=options)\n",
        "\n",
        "# Run object detection estimation using the model.\n",
        "detections = detector.detect(image_np)\n",
        "\n",
        "# Draw keypoints and edges on input image\n",
        "image_np = visualize(image_np, detections)\n",
        "\n",
        "# Show the detection result\n",
        "Image.fromarray(image_np)"
      ],
      "metadata": {
        "id": "kF-6J0S70zTZ"
      },
      "execution_count": null,
      "outputs": []
    },
    {
      "cell_type": "markdown",
      "metadata": {
        "id": "RWP3fEPaGNvd"
      },
      "source": [
        "## Compile the model for EdgeTPU\n",
        "\n",
        "Finally, we'll compile the model using `edgetpu_compiler` so that the model can run on [Google Coral EdgeTPU](https://coral.ai/).\n",
        "\n",
        "We start with installing the EdgeTPU compiler on Colab."
      ]
    },
    {
      "cell_type": "code",
      "execution_count": null,
      "metadata": {
        "colab": {
          "base_uri": "https://localhost:8080/"
        },
        "id": "kK6AN1xVAsCb",
        "outputId": "0a199dc3-a4df-4b4b-ef2b-b9d88b14cb53"
      },
      "outputs": [
        {
          "name": "stdout",
          "output_type": "stream",
          "text": [
            "  % Total    % Received % Xferd  Average Speed   Time    Time     Time  Current\n",
            "                                 Dload  Upload   Total   Spent    Left  Speed\n",
            "\r  0     0    0     0    0     0      0      0 --:--:-- --:--:-- --:--:--     0\r100  2537  100  2537    0     0  59000      0 --:--:-- --:--:-- --:--:-- 59000\n",
            "OK\n",
            "deb https://packages.cloud.google.com/apt coral-edgetpu-stable main\n",
            "Get:1 http://security.ubuntu.com/ubuntu bionic-security InRelease [88.7 kB]\n",
            "Get:2 https://cloud.r-project.org/bin/linux/ubuntu bionic-cran40/ InRelease [3,626 B]\n",
            "Get:3 http://ppa.launchpad.net/c2d4u.team/c2d4u4.0+/ubuntu bionic InRelease [15.9 kB]\n",
            "Get:4 https://packages.cloud.google.com/apt coral-edgetpu-stable InRelease [6,722 B]\n",
            "Hit:5 http://archive.ubuntu.com/ubuntu bionic InRelease\n",
            "Ign:6 https://developer.download.nvidia.com/compute/cuda/repos/ubuntu1804/x86_64  InRelease\n",
            "Get:7 http://archive.ubuntu.com/ubuntu bionic-updates InRelease [88.7 kB]\n",
            "Get:8 http://security.ubuntu.com/ubuntu bionic-security/main amd64 Packages [2,398 kB]\n",
            "Ign:9 https://developer.download.nvidia.com/compute/machine-learning/repos/ubuntu1804/x86_64  InRelease\n",
            "Get:10 https://developer.download.nvidia.com/compute/cuda/repos/ubuntu1804/x86_64  Release [696 B]\n",
            "Hit:11 https://developer.download.nvidia.com/compute/machine-learning/repos/ubuntu1804/x86_64  Release\n",
            "Get:12 https://developer.download.nvidia.com/compute/cuda/repos/ubuntu1804/x86_64  Release.gpg [836 B]\n",
            "Hit:13 http://ppa.launchpad.net/cran/libgit2/ubuntu bionic InRelease\n",
            "Get:14 https://packages.cloud.google.com/apt coral-edgetpu-stable/main amd64 Packages [2,327 B]\n",
            "Get:15 http://security.ubuntu.com/ubuntu bionic-security/universe amd64 Packages [1,434 kB]\n",
            "Get:16 http://archive.ubuntu.com/ubuntu bionic-backports InRelease [74.6 kB]\n",
            "Hit:17 http://ppa.launchpad.net/deadsnakes/ppa/ubuntu bionic InRelease\n",
            "Get:18 http://ppa.launchpad.net/graphics-drivers/ppa/ubuntu bionic InRelease [21.3 kB]\n",
            "Get:20 https://developer.download.nvidia.com/compute/cuda/repos/ubuntu1804/x86_64  Packages [786 kB]\n",
            "Get:21 http://ppa.launchpad.net/c2d4u.team/c2d4u4.0+/ubuntu bionic/main Sources [1,810 kB]\n",
            "Get:22 http://archive.ubuntu.com/ubuntu bionic-updates/main amd64 Packages [2,835 kB]\n",
            "Get:23 http://archive.ubuntu.com/ubuntu bionic-updates/universe amd64 Packages [2,213 kB]\n",
            "Get:24 http://ppa.launchpad.net/c2d4u.team/c2d4u4.0+/ubuntu bionic/main amd64 Packages [927 kB]\n",
            "Get:25 http://ppa.launchpad.net/graphics-drivers/ppa/ubuntu bionic/main amd64 Packages [44.7 kB]\n",
            "Fetched 12.8 MB in 3s (4,420 kB/s)\n",
            "Reading package lists... Done\n",
            "Reading package lists... Done\n",
            "Building dependency tree       \n",
            "Reading state information... Done\n",
            "The following package was automatically installed and is no longer required:\n",
            "  libnvidia-common-460\n",
            "Use 'sudo apt autoremove' to remove it.\n",
            "The following NEW packages will be installed:\n",
            "  edgetpu-compiler\n",
            "0 upgraded, 1 newly installed, 0 to remove and 61 not upgraded.\n",
            "Need to get 7,913 kB of archives.\n",
            "After this operation, 31.2 MB of additional disk space will be used.\n",
            "Get:1 https://packages.cloud.google.com/apt coral-edgetpu-stable/main amd64 edgetpu-compiler amd64 16.0 [7,913 kB]\n",
            "Fetched 7,913 kB in 0s (20.6 MB/s)\n",
            "debconf: unable to initialize frontend: Dialog\n",
            "debconf: (No usable dialog-like program is installed, so the dialog based frontend cannot be used. at /usr/share/perl5/Debconf/FrontEnd/Dialog.pm line 76, <> line 1.)\n",
            "debconf: falling back to frontend: Readline\n",
            "debconf: unable to initialize frontend: Readline\n",
            "debconf: (This frontend requires a controlling tty.)\n",
            "debconf: falling back to frontend: Teletype\n",
            "dpkg-preconfigure: unable to re-open stdin: \n",
            "Selecting previously unselected package edgetpu-compiler.\n",
            "(Reading database ... 155062 files and directories currently installed.)\n",
            "Preparing to unpack .../edgetpu-compiler_16.0_amd64.deb ...\n",
            "Unpacking edgetpu-compiler (16.0) ...\n",
            "Setting up edgetpu-compiler (16.0) ...\n",
            "Processing triggers for libc-bin (2.27-3ubuntu1.3) ...\n",
            "/sbin/ldconfig.real: /usr/local/lib/python3.7/dist-packages/ideep4py/lib/libmkldnn.so.0 is not a symbolic link\n",
            "\n"
          ]
        }
      ],
      "source": [
        "!curl https://packages.cloud.google.com/apt/doc/apt-key.gpg | sudo apt-key add -\n",
        "!echo \"deb https://packages.cloud.google.com/apt coral-edgetpu-stable main\" | sudo tee /etc/apt/sources.list.d/coral-edgetpu.list\n",
        "!sudo apt-get update\n",
        "!sudo apt-get install edgetpu-compiler"
      ]
    },
    {
      "cell_type": "markdown",
      "metadata": {
        "id": "bIGSdzXkEzrj"
      },
      "source": [
        "**Note:** When training the model using a custom dataset, beware that if your dataset includes more than 20 classes, you'll probably have slower inference speeds compared to if you have fewer classes. This is due to an aspect of the EfficientDet architecture in which a certain layer cannot compile for the Edge TPU when it carries more than 20 classes."
      ]
    },
    {
      "cell_type": "markdown",
      "metadata": {
        "id": "rzF6u0FZTAjF"
      },
      "source": [
        "Before compiling the `.tflite` file for the Edge TPU, it's important to consider whether your model will fit into the Edge TPU memory. \n",
        "\n",
        "The Edge TPU has approximately 8 MB of SRAM for [caching model paramaters](https://coral.ai/docs/edgetpu/compiler/#parameter-data-caching), so any model close to or over 8 MB will not fit onto the Edge TPU memory. That means the inference times are longer, because some model parameters must be fetched from the host system memory.\n",
        "\n",
        "One way to elimiate the extra latency is to use [model pipelining](https://coral.ai/docs/edgetpu/pipeline/), which splits the model into segments that can run on separate Edge TPUs in series. This can significantly reduce the latency for big models.\n",
        "\n",
        "The following table provides recommendations for the number of Edge TPUs to use with each EfficientDet-Lite model.\n",
        "\n",
        "| Model architecture | Minimum TPUs | Recommended TPUs\n",
        "|--------------------|-------|-------|\n",
        "| EfficientDet-Lite0 | 1     | 1     |\n",
        "| EfficientDet-Lite1 | 1     | 1     |\n",
        "| EfficientDet-Lite2 | 1     | 2     |\n",
        "| EfficientDet-Lite3 | 2     | 2     |\n",
        "| EfficientDet-Lite4 | 2     | 3     |\n",
        "\n",
        "If you need extra Edge TPUs for your model, then update `NUMBER_OF_TPUS` here:"
      ]
    },
    {
      "cell_type": "code",
      "execution_count": null,
      "metadata": {
        "colab": {
          "base_uri": "https://localhost:8080/"
        },
        "id": "JyptUjakAwzz",
        "outputId": "7a3dad3b-eeb4-45e1-fb68-f0436ac5a933"
      },
      "outputs": [
        {
          "name": "stdout",
          "output_type": "stream",
          "text": [
            "Edge TPU Compiler version 16.0.384591198\n",
            "Started a compilation timeout timer of 180 seconds.\n",
            "\n",
            "Model compiled successfully in 3127 ms.\n",
            "\n",
            "Input model: android.tflite\n",
            "Input size: 4.22MiB\n",
            "Output model: android_edgetpu.tflite\n",
            "Output size: 5.57MiB\n",
            "On-chip memory used for caching model parameters: 4.21MiB\n",
            "On-chip memory remaining for caching model parameters: 3.29MiB\n",
            "Off-chip memory used for streaming uncached model parameters: 0.00B\n",
            "Number of Edge TPU subgraphs: 1\n",
            "Total number of operations: 267\n",
            "Operation log: android_edgetpu.log\n",
            "\n",
            "Model successfully compiled but not all operations are supported by the Edge TPU. A percentage of the model will instead run on the CPU, which is slower. If possible, consider updating your model to use only operations supported by the Edge TPU. For details, visit g.co/coral/model-reqs.\n",
            "Number of operations that will run on Edge TPU: 264\n",
            "Number of operations that will run on CPU: 3\n",
            "See the operation log file for individual operation details.\n",
            "Compilation child process completed within timeout period.\n",
            "Compilation succeeded! \n"
          ]
        }
      ],
      "source": [
        "NUMBER_OF_TPUS = 1\n",
        "\n",
        "!edgetpu_compiler android.tflite --num_segments=$NUMBER_OF_TPUS"
      ]
    },
    {
      "cell_type": "markdown",
      "metadata": {
        "id": "pJYXucYWTGqZ"
      },
      "source": [
        "Finally, we'll copy the metadata, including the label file, from the original TensorFlow Lite model to the EdgeTPU model."
      ]
    },
    {
      "cell_type": "code",
      "execution_count": null,
      "metadata": {
        "id": "8LY1WrgMJBFd"
      },
      "outputs": [],
      "source": [
        "populator_dst = metadata.MetadataPopulator.with_model_file('android_edgetpu.tflite')\n",
        "\n",
        "with open('android.tflite', 'rb') as f:\n",
        "  populator_dst.load_metadata_and_associated_files(f.read())\n",
        "\n",
        "populator_dst.populate()\n",
        "updated_model_buf = populator_dst.get_model_buffer()"
      ]
    },
    {
      "cell_type": "code",
      "execution_count": null,
      "metadata": {
        "colab": {
          "base_uri": "https://localhost:8080/",
          "height": 17
        },
        "id": "VdRihInCJ3ie",
        "outputId": "f2c37370-6ec3-41e6-903d-22e49e2f7dea"
      },
      "outputs": [
        {
          "data": {
            "application/javascript": "\n    async function download(id, filename, size) {\n      if (!google.colab.kernel.accessAllowed) {\n        return;\n      }\n      const div = document.createElement('div');\n      const label = document.createElement('label');\n      label.textContent = `Downloading \"${filename}\": `;\n      div.appendChild(label);\n      const progress = document.createElement('progress');\n      progress.max = size;\n      div.appendChild(progress);\n      document.body.appendChild(div);\n\n      const buffers = [];\n      let downloaded = 0;\n\n      const channel = await google.colab.kernel.comms.open(id);\n      // Send a message to notify the kernel that we're ready.\n      channel.send({})\n\n      for await (const message of channel.messages) {\n        // Send a message to notify the kernel that we're ready.\n        channel.send({})\n        if (message.buffers) {\n          for (const buffer of message.buffers) {\n            buffers.push(buffer);\n            downloaded += buffer.byteLength;\n            progress.value = downloaded;\n          }\n        }\n      }\n      const blob = new Blob(buffers, {type: 'application/binary'});\n      const a = document.createElement('a');\n      a.href = window.URL.createObjectURL(blob);\n      a.download = filename;\n      div.appendChild(a);\n      a.click();\n      div.remove();\n    }\n  ",
            "text/plain": [
              "<IPython.core.display.Javascript object>"
            ]
          },
          "metadata": {},
          "output_type": "display_data"
        },
        {
          "data": {
            "application/javascript": "download(\"download_f466f03c-e5c8-4a91-a845-258a44b01400\", \"android_edgetpu.tflite\", 5844678)",
            "text/plain": [
              "<IPython.core.display.Javascript object>"
            ]
          },
          "metadata": {},
          "output_type": "display_data"
        }
      ],
      "source": [
        "# Download the TFLite model compiled for EdgeTPU to your local computer.\n",
        "from google.colab import files\n",
        "files.download('android_edgetpu.tflite')"
      ]
    }
  ],
  "metadata": {
    "accelerator": "GPU",
    "colab": {
      "collapsed_sections": [
        "3g6aQvXsD78P",
        "Yxh3KInCFeB-",
        "RWP3fEPaGNvd"
      ],
      "provenance": [],
      "include_colab_link": true
    },
    "kernelspec": {
      "display_name": "Python 3",
      "name": "python3"
    },
    "language_info": {
      "name": "python"
    }
  },
  "nbformat": 4,
  "nbformat_minor": 0
}